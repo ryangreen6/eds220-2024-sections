{
 "cells": [
  {
   "cell_type": "code",
   "execution_count": 4,
   "id": "61cc6451-9b52-43dd-b1bb-867f62a338d9",
   "metadata": {
    "tags": []
   },
   "outputs": [],
   "source": [
    "import pandas as pd"
   ]
  },
  {
   "cell_type": "markdown",
   "id": "0449b0d0-dcd9-4e20-82fa-11a8e9a98d35",
   "metadata": {
    "tags": []
   },
   "source": [
    "![Snowshoe Hare](https://upload.wikimedia.org/wikipedia/commons/8/8a/SNOWSHOE_HARE_%28Lepus_americanus%29_%285-28-2015%29_quoddy_head%2C_washington_co%2C_maine_-01_%2818988734889%29.jpg)"
   ]
  },
  {
   "cell_type": "code",
   "execution_count": 8,
   "id": "9243baf8-5df3-4e01-acb1-afe1a52a229b",
   "metadata": {
    "tags": []
   },
   "outputs": [],
   "source": [
    "url = \"https://portal.edirepository.org/nis/dataviewer?packageid=knb-lter-bnz.55.22&entityid=f01f5d71be949b8c700b6ecd1c42c701\"\n",
    "hares = pd.read_csv(url)"
   ]
  },
  {
   "cell_type": "code",
   "execution_count": null,
   "id": "5ac351b7-ffc2-4a0d-8da9-c801bbc48a1f",
   "metadata": {},
   "outputs": [],
   "source": []
  }
 ],
 "metadata": {
  "kernelspec": {
   "display_name": "Anaconda 3 (Base)",
   "language": "python",
   "name": "base"
  },
  "language_info": {
   "codemirror_mode": {
    "name": "ipython",
    "version": 3
   },
   "file_extension": ".py",
   "mimetype": "text/x-python",
   "name": "python",
   "nbconvert_exporter": "python",
   "pygments_lexer": "ipython3",
   "version": "3.9.13"
  }
 },
 "nbformat": 4,
 "nbformat_minor": 5
}
