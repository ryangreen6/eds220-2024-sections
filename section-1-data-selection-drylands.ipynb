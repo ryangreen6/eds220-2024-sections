{
 "cells": [
  {
   "cell_type": "markdown",
   "id": "632713b3-051f-4bf3-b48a-7f3944493604",
   "metadata": {},
   "source": [
    "# 1. Archive exploration\n",
    "\n",
    "In your notebook: use a markdown cell to add a brief description of the dataset, including a citation, date of access, and a link to the archive."
   ]
  },
  {
   "cell_type": "markdown",
   "id": "9bfa5530-3407-45ab-a3d1-303544e4e222",
   "metadata": {},
   "source": [
    "# 2. Metadata exploration"
   ]
  },
  {
   "cell_type": "code",
   "execution_count": 8,
   "id": "7053a01d-b180-4d89-a87c-654303775dfe",
   "metadata": {
    "tags": []
   },
   "outputs": [],
   "source": [
    "import pandas as pd\n",
    "\n",
    "# Access metadata from repository\n",
    "metadata = pd.read_csv('https://knb.ecoinformatics.org/knb/d1/mn/v2/object/urn%3Auuid%3A3baf7289-bf90-4db3-ad11-58785c09b26e')"
   ]
  },
  {
   "cell_type": "markdown",
   "id": "41d9c658-ed07-4688-94b9-3ba8f34f8494",
   "metadata": {},
   "source": [
    "# 3. Data loading"
   ]
  },
  {
   "cell_type": "code",
   "execution_count": 6,
   "id": "41b36cea-edae-4cff-b73e-251cb5d5366b",
   "metadata": {
    "tags": []
   },
   "outputs": [],
   "source": [
    "# Load data\n",
    "prey = pd.read_csv('https://knb.ecoinformatics.org/knb/d1/mn/v2/object/urn%3Auuid%3A23d42528-1048-45d4-85d1-7e13b666e744')"
   ]
  },
  {
   "cell_type": "code",
   "execution_count": 7,
   "id": "9c10469e-307b-4400-9a68-88aa2ed92000",
   "metadata": {
    "tags": []
   },
   "outputs": [
    {
     "data": {
      "text/plain": [
       "pandas.core.frame.DataFrame"
      ]
     },
     "execution_count": 7,
     "metadata": {},
     "output_type": "execute_result"
    }
   ],
   "source": [
    "type(prey)"
   ]
  },
  {
   "cell_type": "code",
   "execution_count": null,
   "id": "d0752ae1-518a-4c75-a8d1-69189182d99f",
   "metadata": {},
   "outputs": [],
   "source": []
  }
 ],
 "metadata": {
  "kernelspec": {
   "display_name": "Anaconda 3 (Base)",
   "language": "python",
   "name": "base"
  },
  "language_info": {
   "codemirror_mode": {
    "name": "ipython",
    "version": 3
   },
   "file_extension": ".py",
   "mimetype": "text/x-python",
   "name": "python",
   "nbconvert_exporter": "python",
   "pygments_lexer": "ipython3",
   "version": "3.9.13"
  }
 },
 "nbformat": 4,
 "nbformat_minor": 5
}
